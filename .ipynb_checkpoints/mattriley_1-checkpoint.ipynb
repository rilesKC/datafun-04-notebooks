{
 "cells": [
  {
   "cell_type": "markdown",
   "metadata": {},
   "source": [
    "# Module 4 Project\n",
    "Author: [Matt Riley](https://github.com/rilesKC) Repository: [datafun-04-notebooks](https://github.com/rilesKC/datafun-04-notebooks)\n",
    "\n",
    "## Task 1 - Series"
   ]
  },
  {
   "cell_type": "code",
   "execution_count": null,
   "metadata": {},
   "outputs": [],
   "source": [
    "# This cell is python\n",
    "import pandas as pd\n",
    "\n",
    "grades = pd.Series([92,86,95,98,89,75,93,85,91,94])\n",
    "\n",
    "grades[0]\n",
    "\n",
    "grades.count()\n",
    "\n",
    "grades.mean()\n",
    "\n",
    "grades.min()\n",
    "\n",
    "grades.max()\n",
    "\n",
    "grades.std()\n",
    "\n",
    "grades.describe()"
   ]
  },
  {
   "cell_type": "markdown",
   "metadata": {},
   "source": [
    "\n",
    "\n",
    "## Task 2 - Series from Dictionary"
   ]
  },
  {
   "cell_type": "code",
   "execution_count": null,
   "metadata": {},
   "outputs": [],
   "source": [
    "# This cell is python\n",
    "grades = pd.Series({'Wally': 87, 'Eva': 100, 'Sam': 94})\n",
    "\n",
    "grades['Eva']\n",
    "\n",
    "grades.Wally\n",
    "\n",
    "grades.values"
   ]
  }
 ],
 "metadata": {
  "language_info": {
   "name": "python"
  },
  "orig_nbformat": 4
 },
 "nbformat": 4,
 "nbformat_minor": 2
}
