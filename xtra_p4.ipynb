{
 "cells": [
  {
   "cell_type": "markdown",
   "metadata": {},
   "source": [
    "# Module 4 Project\n",
    "Author: [Matt Riley](https://github.com/rilesKC) Repository: [datafun-04-notebooks](https://github.com/rilesKC/datafun-04-notebooks)\n",
    "Date: 9/17/2023\n",
    "\n",
    "## Optional Task 5"
   ]
  },
  {
   "cell_type": "code",
   "execution_count": null,
   "metadata": {},
   "outputs": [],
   "source": [
    "import pandas as pd\n",
    "\n",
    "contacts = [['Mike Green', 'demo1@deitel.com', '5555555555'],\n",
    "             ['Sue Brown', 'demo2@deitel.com', '5555551234']]\n",
    "\n",
    "contactsdf = pd.DataFrame(contacts,\n",
    "                          columns=['Name', 'Email', 'Phone'])\n",
    "\n",
    "contactsdf"
   ]
  },
  {
   "cell_type": "code",
   "execution_count": null,
   "metadata": {},
   "outputs": [],
   "source": [
    "import re\n",
    "\n",
    "def get_formatted_phone(value):\n",
    "    result = re.fullmatch(r'(\\d{3})(\\d{3})(\\d{4})', value)\n",
    "    return '-'.join(result.groups()) if result else value"
   ]
  },
  {
   "cell_type": "code",
   "execution_count": null,
   "metadata": {},
   "outputs": [],
   "source": [
    "formatted_phone = contactsdf['Phone'].map(get_formatted_phone)\n",
    "\n",
    "formatted_phone"
   ]
  }
 ],
 "metadata": {
  "language_info": {
   "name": "python"
  },
  "orig_nbformat": 4
 },
 "nbformat": 4,
 "nbformat_minor": 2
}
